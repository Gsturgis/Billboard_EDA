{
 "cells": [
  {
   "cell_type": "code",
   "execution_count": 22,
   "metadata": {},
   "outputs": [],
   "source": [
    "import pandas as pd\n",
    "from pandasql import sqldf\n",
    "import matplotlib.pyplot as plt\n",
    "import seaborn as sns\n",
    "from wordcloud import WordCloud, STOPWORDS\n",
    "import numpy as np\n",
    "from PIL import Image"
   ]
  },
  {
   "cell_type": "markdown",
   "metadata": {},
   "source": [
    "![](Images/june_bill.jpg)"
   ]
  },
  {
   "cell_type": "markdown",
   "metadata": {},
   "source": [
    "## What is the billboard hot 100?:\n",
    "    The Billboard Hot 100 is the music industry standard record chart in the United States for songs, published weekly by Billboard magazine. \n",
    "    Chart rankings are based on sales (physical and digital), radio play, and online streaming in the United States.\n",
    "    \n",
    "    fun fact:\n",
    "        The first number one song of the Billboard Hot 100 was \"Poor Little Fool\" by Ricky Nelson, and the chart's current number-one song is \"Butter\" by BTS."
   ]
  },
  {
   "cell_type": "code",
   "execution_count": 2,
   "metadata": {},
   "outputs": [
    {
     "data": {
      "text/plain": [
       "'/Users/gmac/Desktop/billboard-the-hot-100-songs'"
      ]
     },
     "execution_count": 2,
     "metadata": {},
     "output_type": "execute_result"
    }
   ],
   "source": [
    "# To find path for dataset\n",
    "%pwd"
   ]
  },
  {
   "cell_type": "code",
   "execution_count": 3,
   "metadata": {},
   "outputs": [],
   "source": [
    "filepath = './Data/'\n",
    "\n",
    "df = pd.read_csv(filepath + 'charts.csv')"
   ]
  },
  {
   "cell_type": "code",
   "execution_count": 4,
   "metadata": {},
   "outputs": [
    {
     "data": {
      "text/html": [
       "<div>\n",
       "<style scoped>\n",
       "    .dataframe tbody tr th:only-of-type {\n",
       "        vertical-align: middle;\n",
       "    }\n",
       "\n",
       "    .dataframe tbody tr th {\n",
       "        vertical-align: top;\n",
       "    }\n",
       "\n",
       "    .dataframe thead th {\n",
       "        text-align: right;\n",
       "    }\n",
       "</style>\n",
       "<table border=\"1\" class=\"dataframe\">\n",
       "  <thead>\n",
       "    <tr style=\"text-align: right;\">\n",
       "      <th></th>\n",
       "      <th>date</th>\n",
       "      <th>rank</th>\n",
       "      <th>song</th>\n",
       "      <th>artist</th>\n",
       "      <th>last-week</th>\n",
       "      <th>peak-rank</th>\n",
       "      <th>weeks-on-board</th>\n",
       "    </tr>\n",
       "  </thead>\n",
       "  <tbody>\n",
       "    <tr>\n",
       "      <th>0</th>\n",
       "      <td>2021-06-12</td>\n",
       "      <td>1</td>\n",
       "      <td>Butter</td>\n",
       "      <td>BTS</td>\n",
       "      <td>1.0</td>\n",
       "      <td>1</td>\n",
       "      <td>2</td>\n",
       "    </tr>\n",
       "    <tr>\n",
       "      <th>1</th>\n",
       "      <td>2021-06-12</td>\n",
       "      <td>2</td>\n",
       "      <td>Good 4 U</td>\n",
       "      <td>Olivia Rodrigo</td>\n",
       "      <td>2.0</td>\n",
       "      <td>1</td>\n",
       "      <td>3</td>\n",
       "    </tr>\n",
       "    <tr>\n",
       "      <th>2</th>\n",
       "      <td>2021-06-12</td>\n",
       "      <td>3</td>\n",
       "      <td>Levitating</td>\n",
       "      <td>Dua Lipa Featuring DaBaby</td>\n",
       "      <td>4.0</td>\n",
       "      <td>2</td>\n",
       "      <td>35</td>\n",
       "    </tr>\n",
       "    <tr>\n",
       "      <th>3</th>\n",
       "      <td>2021-06-12</td>\n",
       "      <td>4</td>\n",
       "      <td>Leave The Door Open</td>\n",
       "      <td>Silk Sonic (Bruno Mars &amp; Anderson .Paak)</td>\n",
       "      <td>5.0</td>\n",
       "      <td>1</td>\n",
       "      <td>13</td>\n",
       "    </tr>\n",
       "    <tr>\n",
       "      <th>4</th>\n",
       "      <td>2021-06-12</td>\n",
       "      <td>5</td>\n",
       "      <td>Save Your Tears</td>\n",
       "      <td>The Weeknd &amp; Ariana Grande</td>\n",
       "      <td>7.0</td>\n",
       "      <td>1</td>\n",
       "      <td>25</td>\n",
       "    </tr>\n",
       "  </tbody>\n",
       "</table>\n",
       "</div>"
      ],
      "text/plain": [
       "         date  rank                 song  \\\n",
       "0  2021-06-12     1               Butter   \n",
       "1  2021-06-12     2             Good 4 U   \n",
       "2  2021-06-12     3           Levitating   \n",
       "3  2021-06-12     4  Leave The Door Open   \n",
       "4  2021-06-12     5      Save Your Tears   \n",
       "\n",
       "                                     artist  last-week  peak-rank  \\\n",
       "0                                       BTS        1.0          1   \n",
       "1                            Olivia Rodrigo        2.0          1   \n",
       "2                 Dua Lipa Featuring DaBaby        4.0          2   \n",
       "3  Silk Sonic (Bruno Mars & Anderson .Paak)        5.0          1   \n",
       "4                The Weeknd & Ariana Grande        7.0          1   \n",
       "\n",
       "   weeks-on-board  \n",
       "0               2  \n",
       "1               3  \n",
       "2              35  \n",
       "3              13  \n",
       "4              25  "
      ]
     },
     "execution_count": 4,
     "metadata": {},
     "output_type": "execute_result"
    }
   ],
   "source": [
    "df.head(5)"
   ]
  },
  {
   "cell_type": "code",
   "execution_count": 5,
   "metadata": {},
   "outputs": [],
   "source": [
    "df = df.rename(columns={\"peak-rank\": \"peak\", \"weeks-on-board\": \"weeksonboard\"})"
   ]
  },
  {
   "cell_type": "code",
   "execution_count": 6,
   "metadata": {},
   "outputs": [
    {
     "data": {
      "text/plain": [
       "date                0\n",
       "rank                0\n",
       "song                0\n",
       "artist              0\n",
       "last-week       31971\n",
       "peak                0\n",
       "weeksonboard        0\n",
       "dtype: int64"
      ]
     },
     "execution_count": 6,
     "metadata": {},
     "output_type": "execute_result"
    }
   ],
   "source": [
    "# checking to see if there are any null values\n",
    "df.isnull().sum()"
   ]
  },
  {
   "cell_type": "code",
   "execution_count": 7,
   "metadata": {},
   "outputs": [
    {
     "data": {
      "text/html": [
       "<div>\n",
       "<style scoped>\n",
       "    .dataframe tbody tr th:only-of-type {\n",
       "        vertical-align: middle;\n",
       "    }\n",
       "\n",
       "    .dataframe tbody tr th {\n",
       "        vertical-align: top;\n",
       "    }\n",
       "\n",
       "    .dataframe thead th {\n",
       "        text-align: right;\n",
       "    }\n",
       "</style>\n",
       "<table border=\"1\" class=\"dataframe\">\n",
       "  <thead>\n",
       "    <tr style=\"text-align: right;\">\n",
       "      <th></th>\n",
       "      <th>rank</th>\n",
       "      <th>last-week</th>\n",
       "      <th>peak</th>\n",
       "      <th>weeksonboard</th>\n",
       "    </tr>\n",
       "  </thead>\n",
       "  <tbody>\n",
       "    <tr>\n",
       "      <th>count</th>\n",
       "      <td>327987.000000</td>\n",
       "      <td>296016.000000</td>\n",
       "      <td>327987.000000</td>\n",
       "      <td>327987.000000</td>\n",
       "    </tr>\n",
       "    <tr>\n",
       "      <th>mean</th>\n",
       "      <td>50.500934</td>\n",
       "      <td>47.605393</td>\n",
       "      <td>41.017424</td>\n",
       "      <td>9.148991</td>\n",
       "    </tr>\n",
       "    <tr>\n",
       "      <th>std</th>\n",
       "      <td>28.866094</td>\n",
       "      <td>28.057357</td>\n",
       "      <td>29.350243</td>\n",
       "      <td>7.586790</td>\n",
       "    </tr>\n",
       "    <tr>\n",
       "      <th>min</th>\n",
       "      <td>1.000000</td>\n",
       "      <td>1.000000</td>\n",
       "      <td>1.000000</td>\n",
       "      <td>1.000000</td>\n",
       "    </tr>\n",
       "    <tr>\n",
       "      <th>25%</th>\n",
       "      <td>26.000000</td>\n",
       "      <td>23.000000</td>\n",
       "      <td>14.000000</td>\n",
       "      <td>4.000000</td>\n",
       "    </tr>\n",
       "    <tr>\n",
       "      <th>50%</th>\n",
       "      <td>51.000000</td>\n",
       "      <td>47.000000</td>\n",
       "      <td>38.000000</td>\n",
       "      <td>7.000000</td>\n",
       "    </tr>\n",
       "    <tr>\n",
       "      <th>75%</th>\n",
       "      <td>76.000000</td>\n",
       "      <td>72.000000</td>\n",
       "      <td>66.000000</td>\n",
       "      <td>13.000000</td>\n",
       "    </tr>\n",
       "    <tr>\n",
       "      <th>max</th>\n",
       "      <td>100.000000</td>\n",
       "      <td>100.000000</td>\n",
       "      <td>100.000000</td>\n",
       "      <td>87.000000</td>\n",
       "    </tr>\n",
       "  </tbody>\n",
       "</table>\n",
       "</div>"
      ],
      "text/plain": [
       "                rank      last-week           peak   weeksonboard\n",
       "count  327987.000000  296016.000000  327987.000000  327987.000000\n",
       "mean       50.500934      47.605393      41.017424       9.148991\n",
       "std        28.866094      28.057357      29.350243       7.586790\n",
       "min         1.000000       1.000000       1.000000       1.000000\n",
       "25%        26.000000      23.000000      14.000000       4.000000\n",
       "50%        51.000000      47.000000      38.000000       7.000000\n",
       "75%        76.000000      72.000000      66.000000      13.000000\n",
       "max       100.000000     100.000000     100.000000      87.000000"
      ]
     },
     "execution_count": 7,
     "metadata": {},
     "output_type": "execute_result"
    }
   ],
   "source": [
    "df.describe()"
   ]
  },
  {
   "cell_type": "markdown",
   "metadata": {},
   "source": [
    "### Finding which song has had the max/min amount of weeks on the billboard"
   ]
  },
  {
   "cell_type": "code",
   "execution_count": 8,
   "metadata": {},
   "outputs": [
    {
     "name": "stdout",
     "output_type": "stream",
     "text": [
      "            artist         song        date  MAX(weeksonboard)\n",
      "0  Imagine Dragons  Radioactive  2014-05-10                 87\n"
     ]
    }
   ],
   "source": [
    "print(sqldf(\"SELECT artist, song, date, MAX(weeksonboard) from df ;\", globals()))"
   ]
  },
  {
   "cell_type": "code",
   "execution_count": 9,
   "metadata": {},
   "outputs": [
    {
     "name": "stdout",
     "output_type": "stream",
     "text": [
      "                                  artist    song        date  \\\n",
      "0  Eminem Featuring Jack Harlow & Cordae  Killer  2021-06-12   \n",
      "\n",
      "   MIN(weeksonboard)  \n",
      "0                  1  \n"
     ]
    }
   ],
   "source": [
    "print(sqldf(\"SELECT artist, song, date, MIN(weeksonboard) from df ;\", globals()))"
   ]
  },
  {
   "cell_type": "markdown",
   "metadata": {},
   "source": [
    "## Drake songs that were just 1 spot shy of being in the number 1 spot"
   ]
  },
  {
   "cell_type": "code",
   "execution_count": 10,
   "metadata": {},
   "outputs": [
    {
     "name": "stdout",
     "output_type": "stream",
     "text": [
      "          date  rank             song artist  last-week  peak  weeksonboard\n",
      "0   2018-12-08    46          Nonstop  Drake       32.0     2            22\n",
      "1   2018-12-01    32          Nonstop  Drake       33.0     2            21\n",
      "2   2018-11-24    33          Nonstop  Drake       28.0     2            20\n",
      "3   2018-11-17    28          Nonstop  Drake       25.0     2            19\n",
      "4   2018-11-10    25          Nonstop  Drake       22.0     2            18\n",
      "..         ...   ...              ...    ...        ...   ...           ...\n",
      "59  2009-08-22     3  Best I Ever Had  Drake        2.0     2            14\n",
      "60  2009-08-15     2  Best I Ever Had  Drake        2.0     2            13\n",
      "61  2009-08-08     2  Best I Ever Had  Drake        2.0     2            12\n",
      "62  2009-08-01     2  Best I Ever Had  Drake        2.0     2            11\n",
      "63  2009-07-25     2  Best I Ever Had  Drake        3.0     2            10\n",
      "\n",
      "[64 rows x 7 columns]\n"
     ]
    }
   ],
   "source": [
    "print(sqldf(\"SELECT * from df WHERE peak = '2' AND artist = 'Drake' ;\", globals()))"
   ]
  },
  {
   "cell_type": "code",
   "execution_count": 11,
   "metadata": {},
   "outputs": [
    {
     "data": {
      "text/plain": [
       "3224"
      ]
     },
     "execution_count": 11,
     "metadata": {},
     "output_type": "execute_result"
    }
   ],
   "source": [
    "df[df['rank'] == 1].value_counts().sum()"
   ]
  },
  {
   "cell_type": "markdown",
   "metadata": {},
   "source": [
    "### Which artist have the most number 1 slot appearances"
   ]
  },
  {
   "cell_type": "code",
   "execution_count": 10,
   "metadata": {},
   "outputs": [
    {
     "data": {
      "text/html": [
       "<div>\n",
       "<style scoped>\n",
       "    .dataframe tbody tr th:only-of-type {\n",
       "        vertical-align: middle;\n",
       "    }\n",
       "\n",
       "    .dataframe tbody tr th {\n",
       "        vertical-align: top;\n",
       "    }\n",
       "\n",
       "    .dataframe thead th {\n",
       "        text-align: right;\n",
       "    }\n",
       "</style>\n",
       "<table border=\"1\" class=\"dataframe\">\n",
       "  <thead>\n",
       "    <tr style=\"text-align: right;\">\n",
       "      <th></th>\n",
       "      <th>artist</th>\n",
       "    </tr>\n",
       "  </thead>\n",
       "  <tbody>\n",
       "    <tr>\n",
       "      <th>Mariah Carey</th>\n",
       "      <td>65</td>\n",
       "    </tr>\n",
       "    <tr>\n",
       "      <th>The Beatles</th>\n",
       "      <td>54</td>\n",
       "    </tr>\n",
       "    <tr>\n",
       "      <th>Boyz II Men</th>\n",
       "      <td>34</td>\n",
       "    </tr>\n",
       "    <tr>\n",
       "      <th>Madonna</th>\n",
       "      <td>32</td>\n",
       "    </tr>\n",
       "    <tr>\n",
       "      <th>Whitney Houston</th>\n",
       "      <td>31</td>\n",
       "    </tr>\n",
       "    <tr>\n",
       "      <th>Drake</th>\n",
       "      <td>31</td>\n",
       "    </tr>\n",
       "    <tr>\n",
       "      <th>Michael Jackson</th>\n",
       "      <td>30</td>\n",
       "    </tr>\n",
       "    <tr>\n",
       "      <th>The Black Eyed Peas</th>\n",
       "      <td>28</td>\n",
       "    </tr>\n",
       "    <tr>\n",
       "      <th>Bee Gees</th>\n",
       "      <td>27</td>\n",
       "    </tr>\n",
       "    <tr>\n",
       "      <th>Adele</th>\n",
       "      <td>24</td>\n",
       "    </tr>\n",
       "    <tr>\n",
       "      <th>Elton John</th>\n",
       "      <td>23</td>\n",
       "    </tr>\n",
       "    <tr>\n",
       "      <th>Usher</th>\n",
       "      <td>22</td>\n",
       "    </tr>\n",
       "    <tr>\n",
       "      <th>Elvis Presley With The Jordanaires</th>\n",
       "      <td>21</td>\n",
       "    </tr>\n",
       "    <tr>\n",
       "      <th>Janet Jackson</th>\n",
       "      <td>21</td>\n",
       "    </tr>\n",
       "    <tr>\n",
       "      <th>Lil Nas X Featuring Billy Ray Cyrus</th>\n",
       "      <td>19</td>\n",
       "    </tr>\n",
       "  </tbody>\n",
       "</table>\n",
       "</div>"
      ],
      "text/plain": [
       "                                     artist\n",
       "Mariah Carey                             65\n",
       "The Beatles                              54\n",
       "Boyz II Men                              34\n",
       "Madonna                                  32\n",
       "Whitney Houston                          31\n",
       "Drake                                    31\n",
       "Michael Jackson                          30\n",
       "The Black Eyed Peas                      28\n",
       "Bee Gees                                 27\n",
       "Adele                                    24\n",
       "Elton John                               23\n",
       "Usher                                    22\n",
       "Elvis Presley With The Jordanaires       21\n",
       "Janet Jackson                            21\n",
       "Lil Nas X Featuring Billy Ray Cyrus      19"
      ]
     },
     "execution_count": 10,
     "metadata": {},
     "output_type": "execute_result"
    }
   ],
   "source": [
    "number_one = pd.DataFrame(df[df['rank']==1]['artist'].value_counts())\n",
    "number_one.head(15)"
   ]
  },
  {
   "cell_type": "markdown",
   "metadata": {},
   "source": [
    "## WordCloud for most common song titles"
   ]
  },
  {
   "cell_type": "code",
   "execution_count": 53,
   "metadata": {},
   "outputs": [
    {
     "data": {
      "image/png": "[encoded data removed]",
      "text/plain": [
       "<Figure size 432x288 with 1 Axes>"
      ]
     },
     "metadata": {
      "needs_background": "light"
     },
     "output_type": "display_data"
    },
    {
     "data": {
      "image/png": "[encoded data removed]",
      "text/plain": [
       "<Figure size 432x288 with 1 Axes>"
      ]
     },
     "metadata": {
      "needs_background": "light"
     },
     "output_type": "display_data"
    }
   ],
   "source": [
    "text = ' '.join(df['song'])\n",
    "stopwords = STOPWORDS\n",
    "mask = np.array(Image.open('Images/mj2.jpg'))\n",
    "wc = WordCloud(\n",
    "    background_color = 'black',\n",
    "    stopwords = stopwords,\n",
    "    height = 1200,\n",
    "    width = 1200,\n",
    "    mask = mask\n",
    ")\n",
    "wc.generate(text)\n",
    "wc.to_file('Images/wordcloud_output.png')\n",
    "plt.imshow(wc, interpolation='bilinear')\n",
    "plt.axis(\"off\")\n",
    "plt.figure()\n",
    "plt.imshow(mask, cmap=plt.cm.gray, interpolation='bilinear')\n",
    "plt.axis(\"off\")\n",
    "plt.show()"
   ]
  },
  {
   "cell_type": "markdown",
   "metadata": {},
   "source": [
    "## Data Analysis on Michael Jackson"
   ]
  },
  {
   "cell_type": "markdown",
   "metadata": {},
   "source": [
    "![](Images/MJ.jpg)"
   ]
  },
  {
   "cell_type": "code",
   "execution_count": 11,
   "metadata": {},
   "outputs": [
    {
     "data": {
      "text/html": [
       "<div>\n",
       "<style scoped>\n",
       "    .dataframe tbody tr th:only-of-type {\n",
       "        vertical-align: middle;\n",
       "    }\n",
       "\n",
       "    .dataframe tbody tr th {\n",
       "        vertical-align: top;\n",
       "    }\n",
       "\n",
       "    .dataframe thead th {\n",
       "        text-align: right;\n",
       "    }\n",
       "</style>\n",
       "<table border=\"1\" class=\"dataframe\">\n",
       "  <thead>\n",
       "    <tr style=\"text-align: right;\">\n",
       "      <th></th>\n",
       "      <th>date</th>\n",
       "      <th>rank</th>\n",
       "      <th>song</th>\n",
       "      <th>artist</th>\n",
       "      <th>last-week</th>\n",
       "      <th>peak</th>\n",
       "      <th>weeksonboard</th>\n",
       "    </tr>\n",
       "  </thead>\n",
       "  <tbody>\n",
       "    <tr>\n",
       "      <th>3047</th>\n",
       "      <td>2020-11-14</td>\n",
       "      <td>48</td>\n",
       "      <td>Thriller</td>\n",
       "      <td>Michael Jackson</td>\n",
       "      <td>NaN</td>\n",
       "      <td>4</td>\n",
       "      <td>20</td>\n",
       "    </tr>\n",
       "    <tr>\n",
       "      <th>8343</th>\n",
       "      <td>2019-11-09</td>\n",
       "      <td>44</td>\n",
       "      <td>Thriller</td>\n",
       "      <td>Michael Jackson</td>\n",
       "      <td>NaN</td>\n",
       "      <td>4</td>\n",
       "      <td>19</td>\n",
       "    </tr>\n",
       "    <tr>\n",
       "      <th>13530</th>\n",
       "      <td>2018-11-10</td>\n",
       "      <td>31</td>\n",
       "      <td>Thriller</td>\n",
       "      <td>Michael Jackson</td>\n",
       "      <td>NaN</td>\n",
       "      <td>4</td>\n",
       "      <td>18</td>\n",
       "    </tr>\n",
       "    <tr>\n",
       "      <th>29044</th>\n",
       "      <td>2015-11-21</td>\n",
       "      <td>45</td>\n",
       "      <td>Thriller</td>\n",
       "      <td>Michael Jackson</td>\n",
       "      <td>NaN</td>\n",
       "      <td>4</td>\n",
       "      <td>17</td>\n",
       "    </tr>\n",
       "    <tr>\n",
       "      <th>34334</th>\n",
       "      <td>2014-11-15</td>\n",
       "      <td>35</td>\n",
       "      <td>Thriller</td>\n",
       "      <td>Michael Jackson</td>\n",
       "      <td>NaN</td>\n",
       "      <td>4</td>\n",
       "      <td>16</td>\n",
       "    </tr>\n",
       "  </tbody>\n",
       "</table>\n",
       "</div>"
      ],
      "text/plain": [
       "             date  rank      song           artist  last-week  peak  \\\n",
       "3047   2020-11-14    48  Thriller  Michael Jackson        NaN     4   \n",
       "8343   2019-11-09    44  Thriller  Michael Jackson        NaN     4   \n",
       "13530  2018-11-10    31  Thriller  Michael Jackson        NaN     4   \n",
       "29044  2015-11-21    45  Thriller  Michael Jackson        NaN     4   \n",
       "34334  2014-11-15    35  Thriller  Michael Jackson        NaN     4   \n",
       "\n",
       "       weeksonboard  \n",
       "3047             20  \n",
       "8343             19  \n",
       "13530            18  \n",
       "29044            17  \n",
       "34334            16  "
      ]
     },
     "execution_count": 11,
     "metadata": {},
     "output_type": "execute_result"
    }
   ],
   "source": [
    "df[df['artist']=='Michael Jackson'].head(5) "
   ]
  },
  {
   "cell_type": "code",
   "execution_count": 12,
   "metadata": {},
   "outputs": [
    {
     "data": {
      "text/plain": [
       "Black Or White                    7\n",
       "Billie Jean                       7\n",
       "Rock With You                     4\n",
       "Beat It                           3\n",
       "Man In The Mirror                 2\n",
       "Bad                               2\n",
       "Don't Stop 'til You Get Enough    1\n",
       "Ben                               1\n",
       "The Way You Make Me Feel          1\n",
       "You Are Not Alone                 1\n",
       "Dirty Diana                       1\n",
       "Name: song, dtype: int64"
      ]
     },
     "execution_count": 12,
     "metadata": {},
     "output_type": "execute_result"
    }
   ],
   "source": [
    "# Finding the number of times Michael Jackson the were number one the longest\n",
    "df[(df['artist']=='Michael Jackson') & (df['rank']==1)]['song'].value_counts()"
   ]
  },
  {
   "cell_type": "code",
   "execution_count": 52,
   "metadata": {},
   "outputs": [
    {
     "data": {
      "text/plain": [
       "<AxesSubplot:xlabel='count', ylabel='song'>"
      ]
     },
     "execution_count": 52,
     "metadata": {},
     "output_type": "execute_result"
    },
    {
     "data": {
      "image/png": "[encoded data removed]",
      "text/plain": [
       "<Figure size 576x576 with 1 Axes>"
      ]
     },
     "metadata": {
      "needs_background": "light"
     },
     "output_type": "display_data"
    }
   ],
   "source": [
    "plt.figure(figsize=(8,8))\n",
    "sns.countplot(y= df[(df['artist']=='Michael Jackson') & (df['rank']==1)]['song'],data=df, palette='viridis')"
   ]
  },
  {
   "cell_type": "code",
   "execution_count": null,
   "metadata": {},
   "outputs": [],
   "source": []
  },
  {
   "cell_type": "code",
   "execution_count": null,
   "metadata": {},
   "outputs": [],
   "source": []
  }
 ],
 "metadata": {
  "kernelspec": {
   "display_name": "Python 3",
   "language": "python",
   "name": "python3"
  },
  "language_info": {
   "codemirror_mode": {
    "name": "ipython",
    "version": 3
   },
   "file_extension": ".py",
   "mimetype": "text/x-python",
   "name": "python",
   "nbconvert_exporter": "python",
   "pygments_lexer": "ipython3",
   "version": "3.9.0"
  }
 },
 "nbformat": 4,
 "nbformat_minor": 4
}
